{
 "cells": [
  {
   "cell_type": "code",
   "execution_count": 11,
   "id": "1f836ed7",
   "metadata": {},
   "outputs": [
    {
     "name": "stdout",
     "output_type": "stream",
     "text": [
      "C:\\Users\\shann\\AppData\\Local\\Programs\\Python\\Python311\\Scripts\\mace_run_train.exe\n"
     ]
    }
   ],
   "source": [
    "# Check if mace_run_train is available\n",
    "!where mace_run_train\n",
    "\n",
    "# Or try this on Windows:\n",
    "#!mace_run_train --help"
   ]
  },
  {
   "cell_type": "code",
   "execution_count": null,
   "id": "a7d9fb85",
   "metadata": {},
   "outputs": [],
   "source": [
    "#for some reason I cannot update the database in github, so if the database is not in the folder, execute this cell\n",
    "!git clone https://github.com/davkovacs/BOTNet-datasets.git"
   ]
  },
  {
   "cell_type": "markdown",
   "id": "24664d3b",
   "metadata": {},
   "source": [
    "ok, so this part does not work, so instead I tried the other option from another tutorial where they write a config file."
   ]
  },
  {
   "cell_type": "code",
   "execution_count": 26,
   "id": "d2b026df",
   "metadata": {},
   "outputs": [
    {
     "data": {
      "text/plain": [
       "'!mace_run_train   --name=\"MACE_model\"   --train_file=\"BOTNet-datasets/dataset_3BPA/train_300K.xyz\"   --valid_fraction=0.05   --forces_key=\"forces\"   --energy_key=\"energy\"   --test_file=\"BOTNet-datasets/dataset_3BPA/test_300K.xyz\"   --E0s=\\'{1:-13.663181292231226, 6:-1029.2809654211628, 7:-1484.1187695035828, 8:-2042.0330099956639}\\'   --model=\"ScaleShiftMACE\"   --hidden_irreps=\\'32x0e\\'   --r_max=4.0   --batch_size=20   --max_num_epochs=5   --ema   --ema_decay=0.99   --amsgrad   --default_dtype=\"float32\"   --device=cpu   --seed=123   --swa'"
      ]
     },
     "execution_count": 26,
     "metadata": {},
     "output_type": "execute_result"
    }
   ],
   "source": [
    "'''!mace_run_train \\\n",
    "  --name=\"MACE_model\" \\\n",
    "  --train_file=\"BOTNet-datasets/dataset_3BPA/train_300K.xyz\" \\\n",
    "  --valid_fraction=0.05 \\\n",
    "  --forces_key=\"forces\" \\\n",
    "  --energy_key=\"energy\" \\\n",
    "  --test_file=\"BOTNet-datasets/dataset_3BPA/test_300K.xyz\" \\\n",
    "  --E0s='{1:-13.663181292231226, 6:-1029.2809654211628, 7:-1484.1187695035828, 8:-2042.0330099956639}' \\\n",
    "  --model=\"ScaleShiftMACE\" \\\n",
    "  --hidden_irreps='32x0e' \\\n",
    "  --r_max=4.0 \\\n",
    "  --batch_size=20 \\\n",
    "  --max_num_epochs=5 \\\n",
    "  --ema \\\n",
    "  --ema_decay=0.99 \\\n",
    "  --amsgrad \\\n",
    "  --default_dtype=\"float32\" \\\n",
    "  --device=cpu \\\n",
    "  --seed=123 \\\n",
    "  --swa'''"
   ]
  },
  {
   "cell_type": "markdown",
   "id": "ed56154f",
   "metadata": {},
   "source": [
    "So here is where the config file is created\n",
    "\n",
    "The first line is a command that creates a new file, writing everything in the cell to a file named config_mace_3bpa.yml\n",
    "- 'model' specifies the mace model varian that is going to be used -> the model used here appllies scalling and shifting to energy outputs helping with numerical stability and accuracy -> could also use MACE or BOTNet\n",
    "- 'name' names the trainin run -> naming the output files, logs and checkpoints\n",
    "- 'train_file' and 'test_file' are for indicating the files with the information to train and to be used to evaluate the model\n",
    "- 'valid fraction' indicates how to split training data for validation, uses % of training data as validation set to monitor training progress and prevent overfitting.\n",
    "- 'energy_key' and 'forces_key' tell MACE which columns in the xyz file contain energy and forces -> looks for energy property on the file and forces property (the xyz file must have this properties defined)\n",
    "- 'E0s:' reference energies for isolated atoms\n",
    "- 'hidden_irreps' defines de neural network architecture -> for this case 32 are the channels/features, x0e only scalar features -> uses 32 scalar features in the hidden layers\n",
    "- 'r_max' cutoff radius for atomic interactions -> atoms farther than 4 angstroms apart dont interact\n",
    "- 'batch size' number of structures processed together\n",
    "- 'max num epochs' how long to train -> epoch is one full pass through all training data\n",
    "- 'ema' and 'ema decay' exponential moving average for model weights -> keeps a smoothed versioin of the model parameters \n",
    "- 'amsgrad' improved version of Adam optimizer -> prevents overly large learning rates, more stable training\n",
    "- 'swa' stochastic weight averaging -> averages multiple model checkpoints at the end of training for better performance\n",
    "- 'default dtype' numerical precision\n",
    "- 'device' where to run the computations -> CUDA for NVIDIA GPUs\n",
    "- 'seed' random number generator seed -> random initialization every time"
   ]
  },
  {
   "cell_type": "code",
   "execution_count": 18,
   "id": "fe454fb3",
   "metadata": {},
   "outputs": [
    {
     "name": "stdout",
     "output_type": "stream",
     "text": [
      "Overwriting config_mace_3bpa.yml\n"
     ]
    }
   ],
   "source": [
    "%%writefile config_mace_3bpa.yml\n",
    "\n",
    "model: \"ScaleShiftMACE\"\n",
    "name: \"MACE_model\"\n",
    "train_file: \"BOTNet-datasets/dataset_3BPA/train_300K.xyz\"\n",
    "valid_fraction: 0.05\n",
    "test_file: \"BOTNet-datasets/dataset_3BPA/test_300K.xyz\"\n",
    "energy_key: \"energy\"\n",
    "forces_key: \"forces\"\n",
    "E0s:\n",
    "  1: -13.663181292231226\n",
    "  6: -1029.2809654211628\n",
    "  7: -1484.1187695035828\n",
    "  8: -2042.0330099956639\n",
    "hidden_irreps: \"32x0e\"\n",
    "r_max: 4.0\n",
    "batch_size: 20\n",
    "max_num_epochs: 5\n",
    "ema: true\n",
    "ema_decay: 0.99\n",
    "amsgrad: true\n",
    "default_dtype: \"float32\"\n",
    "device: cpu\n",
    "seed: 123\n",
    "swa: true"
   ]
  },
  {
   "cell_type": "markdown",
   "id": "77d46853",
   "metadata": {},
   "source": [
    "this is one way to run the training, like a command line"
   ]
  },
  {
   "cell_type": "code",
   "execution_count": 19,
   "id": "1a5e430e",
   "metadata": {},
   "outputs": [
    {
     "name": "stdout",
     "output_type": "stream",
     "text": [
      "cuequivariance or cuequivariance_torch is not available. Cuequivariance acceleration will be disabled.\n",
      "2025-10-03 22:28:53.959 INFO: ===========VERIFYING SETTINGS===========\n",
      "2025-10-03 22:28:53.959 INFO: MACE version: 0.3.14\n",
      "2025-10-03 22:28:53.959 INFO: Using CPU\n",
      "2025-10-03 22:28:54.233 INFO: ===========LOADING INPUT DATA===========\n",
      "2025-10-03 22:28:54.233 INFO: Using heads: ['Default']\n",
      "2025-10-03 22:28:54.234 INFO: Using the key specifications to parse data:\n",
      "2025-10-03 22:28:54.234 INFO: Default: KeySpecification(info_keys={'energy': 'energy', 'stress': 'REF_stress', 'virials': 'REF_virials', 'dipole': 'dipole', 'head': 'head', 'elec_temp': 'elec_temp', 'total_charge': 'total_charge', 'polarizability': 'polarizability', 'total_spin': 'total_spin'}, arrays_keys={'forces': 'forces', 'charges': 'REF_charges'})\n",
      "2025-10-03 22:28:54.234 INFO: =============    Processing head Default     ===========\n",
      "2025-10-03 22:28:54.697 WARNING: Since ASE version 3.23.0b1, using energy_key 'energy' is no longer safe when communicating between MACE and ASE. We recommend using a different key, rewriting 'energy' to 'REF_energy'. You need to use --energy_key='REF_energy' to specify the chosen key name.\n",
      "2025-10-03 22:28:54.777 WARNING: Since ASE version 3.23.0b1, using forces_key 'forces' is no longer safe when communicating between MACE and ASE. We recommend using a different key, rewriting 'forces' to 'REF_forces'. You need to use --forces_key='REF_forces' to specify the chosen key name.\n",
      "2025-10-03 22:28:54.883 INFO: Training set 1/1 [energy: 500, stress: 0, virials: 0, dipole components: 0, head: 500, elec_temp: 0, total_charge: 0, polarizability: 0, total_spin: 0, forces: 500, charges: 0]\n",
      "2025-10-03 22:28:54.886 INFO: Total Training set [energy: 500, stress: 0, virials: 0, dipole components: 0, head: 500, elec_temp: 0, total_charge: 0, polarizability: 0, total_spin: 0, forces: 500, charges: 0]\n",
      "2025-10-03 22:28:54.886 INFO: No validation set provided, splitting training data instead.\n",
      "2025-10-03 22:28:54.892 INFO: Using random 5% of training set for validation with indices saved in: ./valid_indices_123.txt\n",
      "2025-10-03 22:28:54.896 INFO: Random Split Training set [energy: 475, stress: 0, virials: 0, dipole components: 0, head: 475, elec_temp: 0, total_charge: 0, polarizability: 0, total_spin: 0, forces: 475, charges: 0]\n",
      "2025-10-03 22:28:54.896 INFO: Random Split Validation set [energy: 25, stress: 0, virials: 0, dipole components: 0, head: 25, elec_temp: 0, total_charge: 0, polarizability: 0, total_spin: 0, forces: 25, charges: 0]\n",
      "2025-10-03 22:28:56.556 WARNING: Since ASE version 3.23.0b1, using energy_key 'energy' is no longer safe when communicating between MACE and ASE. We recommend using a different key, rewriting 'energy' to 'REF_energy'. You need to use --energy_key='REF_energy' to specify the chosen key name.\n",
      "2025-10-03 22:28:57.089 WARNING: Since ASE version 3.23.0b1, using forces_key 'forces' is no longer safe when communicating between MACE and ASE. We recommend using a different key, rewriting 'forces' to 'REF_forces'. You need to use --forces_key='REF_forces' to specify the chosen key name.\n",
      "2025-10-03 22:28:57.715 INFO: Test set 1/1 [energy: 1669, stress: 0, virials: 0, dipole components: 0, head: 1669, elec_temp: 0, total_charge: 0, polarizability: 0, total_spin: 0, forces: 1669, charges: 0]\n",
      "2025-10-03 22:28:57.729 INFO: Total Test set [energy: 1669, stress: 0, virials: 0, dipole components: 0, head: 1669, elec_temp: 0, total_charge: 0, polarizability: 0, total_spin: 0, forces: 1669, charges: 0]\n",
      "2025-10-03 22:28:57.730 INFO: Total number of configurations: train=475, valid=25, tests=[Default_Default: 1669],\n",
      "2025-10-03 22:28:57.733 INFO: Atomic Numbers used: [1, 6, 7, 8]\n",
      "2025-10-03 22:28:57.734 INFO: Isolated Atomic Energies (E0s) not in training file, using command line argument\n",
      "2025-10-03 22:28:57.734 INFO: Atomic Energies used (z: eV) for head Default: {1: -13.663181292231226, 6: -1029.2809654211628, 7: -1484.1187695035828, 8: -2042.0330099956639}\n",
      "2025-10-03 22:28:57.735 INFO: Processing datasets for head 'Default'\n",
      "2025-10-03 22:28:58.239 INFO: Combining 1 list datasets for head 'Default'\n",
      "2025-10-03 22:28:58.272 INFO: Head 'Default' training dataset size: 475\n",
      "2025-10-03 22:28:58.273 INFO: Computing average number of neighbors\n",
      "2025-10-03 22:28:58.492 INFO: Average number of neighbors: 11.992914199829102\n",
      "2025-10-03 22:28:58.492 INFO: During training the following quantities will be reported: energy, forces\n",
      "2025-10-03 22:28:58.492 INFO: ===========MODEL DETAILS===========\n",
      "2025-10-03 22:28:58.655 INFO: Building model\n",
      "2025-10-03 22:28:58.655 INFO: Message passing with 32 channels and max_L=0 (32x0e)\n",
      "2025-10-03 22:28:58.655 INFO: 2 layers, each with correlation order: 3 (body order: 4) and spherical harmonics up to: l=3\n",
      "2025-10-03 22:28:58.655 INFO: 8 radial and 5 basis functions\n",
      "2025-10-03 22:28:58.655 INFO: Radial cutoff: 4.0 A (total receptive field for each atom: 8.0 A)\n",
      "2025-10-03 22:28:58.656 INFO: Distance transform for radial basis functions: None\n",
      "2025-10-03 22:28:58.656 INFO: Hidden irreps: 32x0e\n",
      "2025-10-03 22:29:01.190 INFO: Total number of parameters: 62128\n",
      "2025-10-03 22:29:01.190 INFO: \n",
      "2025-10-03 22:29:01.190 INFO: ===========OPTIMIZER INFORMATION===========\n",
      "2025-10-03 22:29:01.190 INFO: Using ADAM as parameter optimizer\n",
      "2025-10-03 22:29:01.190 INFO: Batch size: 20\n",
      "2025-10-03 22:29:01.191 INFO: Using Exponential Moving Average with decay: 0.99\n",
      "2025-10-03 22:29:01.191 INFO: Number of gradient updates: 118\n",
      "2025-10-03 22:29:01.191 INFO: Learning rate: 0.01, weight decay: 5e-07\n",
      "2025-10-03 22:29:01.191 INFO: WeightedEnergyForcesLoss(energy_weight=1.000, forces_weight=100.000)\n",
      "2025-10-03 22:29:01.191 INFO: Stage Two (after 3 epochs) with loss function: WeightedEnergyForcesLoss(energy_weight=1000.000, forces_weight=100.000), with energy weight : 1000.0, forces weight : 100.0 and learning rate : 0.001\n",
      "2025-10-03 22:29:01.404 INFO: Using gradient clipping with tolerance=10.000\n",
      "2025-10-03 22:29:01.405 INFO: \n",
      "2025-10-03 22:29:01.406 INFO: ===========TRAINING===========\n",
      "2025-10-03 22:29:01.406 INFO: Started training, reporting errors on validation set\n",
      "2025-10-03 22:29:01.406 INFO: Loss metrics on validation set\n",
      "2025-10-03 22:29:03.950 INFO: Initial: head: Default, loss=11.11455059, RMSE_E_per_atom=   10.55 meV, RMSE_F=  975.98 meV / A\n",
      "2025-10-03 22:30:18.504 INFO: Epoch 0: head: Default, loss=3.70784736, RMSE_E_per_atom=  317.56 meV, RMSE_F=  557.62 meV / A\n",
      "2025-10-03 22:31:00.699 INFO: Epoch 1: head: Default, loss=2.10038996, RMSE_E_per_atom=  368.79 meV, RMSE_F=  417.03 meV / A\n",
      "2025-10-03 22:31:24.938 INFO: Epoch 2: head: Default, loss=1.19996405, RMSE_E_per_atom=  368.27 meV, RMSE_F=  314.29 meV / A\n",
      "2025-10-03 22:31:24.983 INFO: Changing loss based on Stage Two Weights\n",
      "2025-10-03 22:31:57.430 INFO: Epoch 3: head: Default, loss=1.73713100, RMSE_E_per_atom=   40.66 meV, RMSE_F=  359.19 meV / A\n",
      "2025-10-03 22:32:28.989 INFO: Epoch 4: head: Default, loss=1.14130545, RMSE_E_per_atom=    8.50 meV, RMSE_F=  308.08 meV / A\n",
      "2025-10-03 22:32:29.040 INFO: Training complete\n",
      "2025-10-03 22:32:29.040 INFO: \n",
      "2025-10-03 22:32:29.041 INFO: ===========RESULTS===========\n",
      "2025-10-03 22:32:32.088 INFO: Loading checkpoint: .\\checkpoints\\MACE_model_run-123_epoch-5.pt\n",
      "2025-10-03 22:32:32.140 INFO: Loaded Stage one model from epoch 5 for evaluation\n",
      "2025-10-03 22:32:32.141 INFO: Saving model to checkpoints\\MACE_model_run-123.model\n",
      "2025-10-03 22:32:32.562 INFO: Compiling model, saving metadata to MACE_model_compiled.model\n",
      "2025-10-03 22:32:34.998 INFO: Computing metrics for training, validation, and test sets\n",
      "2025-10-03 22:32:34.999 INFO: Skipping evaluation for heads: ['pt_head']\n",
      "2025-10-03 22:32:34.999 INFO: Evaluating train_Default ...\n",
      "2025-10-03 22:32:45.267 INFO: Evaluating valid_Default ...\n",
      "2025-10-03 22:32:46.155 INFO: Error-table on TRAIN and VALID:\n",
      "+---------------+---------------------+------------------+-------------------+\n",
      "|  config_type  | RMSE E / meV / atom | RMSE F / meV / A | relative F RMSE % |\n",
      "+---------------+---------------------+------------------+-------------------+\n",
      "| train_Default |          155.0      |        222.4     |         23.50     |\n",
      "| valid_Default |          154.8      |        227.3     |         23.25     |\n",
      "+---------------+---------------------+------------------+-------------------+\n",
      "2025-10-03 22:32:46.155 INFO: Evaluating Default_Default ...\n",
      "2025-10-03 22:33:32.156 INFO: Error-table on TEST:\n",
      "+-----------------+---------------------+------------------+-------------------+\n",
      "|   config_type   | RMSE E / meV / atom | RMSE F / meV / A | relative F RMSE % |\n",
      "+-----------------+---------------------+------------------+-------------------+\n",
      "| Default_Default |          155.1      |        226.1     |         23.53     |\n",
      "+-----------------+---------------------+------------------+-------------------+\n",
      "2025-10-03 22:33:32.578 INFO: Loading checkpoint: .\\checkpoints\\MACE_model_run-123_epoch-4_swa.pt\n",
      "2025-10-03 22:33:32.605 INFO: Loaded Stage two model from epoch 4 for evaluation\n",
      "2025-10-03 22:33:32.606 INFO: Saving model to checkpoints\\MACE_model_run-123_stagetwo.model\n",
      "2025-10-03 22:33:33.020 INFO: Compiling model, saving metadata MACE_model_stagetwo_compiled.model\n",
      "2025-10-03 22:33:35.071 INFO: Computing metrics for training, validation, and test sets\n",
      "2025-10-03 22:33:35.073 INFO: Skipping evaluation for heads: ['pt_head']\n",
      "2025-10-03 22:33:35.073 INFO: Evaluating train_Default ...\n",
      "2025-10-03 22:33:46.521 INFO: Evaluating valid_Default ...\n",
      "2025-10-03 22:33:47.462 INFO: Error-table on TRAIN and VALID:\n",
      "+---------------+---------------------+------------------+-------------------+\n",
      "|  config_type  | RMSE E / meV / atom | RMSE F / meV / A | relative F RMSE % |\n",
      "+---------------+---------------------+------------------+-------------------+\n",
      "| train_Default |            9.1      |        301.5     |         31.83     |\n",
      "| valid_Default |            8.5      |        308.1     |         31.52     |\n",
      "+---------------+---------------------+------------------+-------------------+\n",
      "2025-10-03 22:33:47.462 INFO: Evaluating Default_Default ...\n",
      "2025-10-03 22:34:44.469 INFO: Error-table on TEST:\n",
      "+-----------------+---------------------+------------------+-------------------+\n",
      "|   config_type   | RMSE E / meV / atom | RMSE F / meV / A | relative F RMSE % |\n",
      "+-----------------+---------------------+------------------+-------------------+\n",
      "| Default_Default |            9.3      |        305.3     |         31.78     |\n",
      "+-----------------+---------------------+------------------+-------------------+\n",
      "2025-10-03 22:34:44.810 INFO: Done\n"
     ]
    },
    {
     "name": "stderr",
     "output_type": "stream",
     "text": [
      "C:\\Users\\shann\\AppData\\Local\\Programs\\Python\\Python311\\Lib\\site-packages\\e3nn\\o3\\_wigner.py:10: UserWarning: Environment variable TORCH_FORCE_NO_WEIGHTS_ONLY_LOAD detected, since the`weights_only` argument was not explicitly passed to `torch.load`, forcing weights_only=False.\n",
      "  _Jd, _W3j_flat, _W3j_indices = torch.load(os.path.join(os.path.dirname(__file__), 'constants.pt'))\n",
      "C:\\Users\\shann\\AppData\\Local\\Programs\\Python\\Python311\\Lib\\site-packages\\torch\\utils\\data\\dataloader.py:666: UserWarning: 'pin_memory' argument is set as true but no accelerator is found, then device pinned memory won't be used.\n",
      "  warnings.warn(warn_msg)\n",
      "C:\\Users\\shann\\AppData\\Local\\Programs\\Python\\Python311\\Lib\\site-packages\\torch\\jit\\_check.py:178: UserWarning: The TorchScript type system doesn't support instance-level annotations on empty non-base types in `__init__`. Instead, either 1) use a type annotation in the class body, or 2) wrap the type in `torch.jit.Attribute`.\n",
      "  warnings.warn(\n",
      "C:\\Users\\shann\\AppData\\Local\\Programs\\Python\\Python311\\Lib\\site-packages\\torch\\jit\\_check.py:178: UserWarning: The TorchScript type system doesn't support instance-level annotations on empty non-base types in `__init__`. Instead, either 1) use a type annotation in the class body, or 2) wrap the type in `torch.jit.Attribute`.\n",
      "  warnings.warn(\n",
      "C:\\Users\\shann\\AppData\\Local\\Programs\\Python\\Python311\\Lib\\site-packages\\torch\\jit\\_check.py:178: UserWarning: The TorchScript type system doesn't support instance-level annotations on empty non-base types in `__init__`. Instead, either 1) use a type annotation in the class body, or 2) wrap the type in `torch.jit.Attribute`.\n",
      "  warnings.warn(\n",
      "C:\\Users\\shann\\AppData\\Local\\Programs\\Python\\Python311\\Lib\\site-packages\\torch\\jit\\_check.py:178: UserWarning: The TorchScript type system doesn't support instance-level annotations on empty non-base types in `__init__`. Instead, either 1) use a type annotation in the class body, or 2) wrap the type in `torch.jit.Attribute`.\n",
      "  warnings.warn(\n",
      "C:\\Users\\shann\\AppData\\Local\\Programs\\Python\\Python311\\Lib\\site-packages\\torch\\jit\\_check.py:178: UserWarning: The TorchScript type system doesn't support instance-level annotations on empty non-base types in `__init__`. Instead, either 1) use a type annotation in the class body, or 2) wrap the type in `torch.jit.Attribute`.\n",
      "  warnings.warn(\n",
      "C:\\Users\\shann\\AppData\\Local\\Programs\\Python\\Python311\\Lib\\site-packages\\torch\\jit\\_check.py:178: UserWarning: The TorchScript type system doesn't support instance-level annotations on empty non-base types in `__init__`. Instead, either 1) use a type annotation in the class body, or 2) wrap the type in `torch.jit.Attribute`.\n",
      "  warnings.warn(\n",
      "C:\\Users\\shann\\AppData\\Local\\Programs\\Python\\Python311\\Lib\\site-packages\\torch\\jit\\_check.py:178: UserWarning: The TorchScript type system doesn't support instance-level annotations on empty non-base types in `__init__`. Instead, either 1) use a type annotation in the class body, or 2) wrap the type in `torch.jit.Attribute`.\n",
      "  warnings.warn(\n",
      "C:\\Users\\shann\\AppData\\Local\\Programs\\Python\\Python311\\Lib\\site-packages\\torch\\jit\\_check.py:178: UserWarning: The TorchScript type system doesn't support instance-level annotations on empty non-base types in `__init__`. Instead, either 1) use a type annotation in the class body, or 2) wrap the type in `torch.jit.Attribute`.\n",
      "  warnings.warn(\n",
      "C:\\Users\\shann\\AppData\\Local\\Programs\\Python\\Python311\\Lib\\site-packages\\torch\\jit\\_check.py:178: UserWarning: The TorchScript type system doesn't support instance-level annotations on empty non-base types in `__init__`. Instead, either 1) use a type annotation in the class body, or 2) wrap the type in `torch.jit.Attribute`.\n",
      "  warnings.warn(\n",
      "C:\\Users\\shann\\AppData\\Local\\Programs\\Python\\Python311\\Lib\\site-packages\\torch\\jit\\_check.py:178: UserWarning: The TorchScript type system doesn't support instance-level annotations on empty non-base types in `__init__`. Instead, either 1) use a type annotation in the class body, or 2) wrap the type in `torch.jit.Attribute`.\n",
      "  warnings.warn(\n",
      "C:\\Users\\shann\\AppData\\Local\\Programs\\Python\\Python311\\Lib\\site-packages\\torch\\jit\\_check.py:178: UserWarning: The TorchScript type system doesn't support instance-level annotations on empty non-base types in `__init__`. Instead, either 1) use a type annotation in the class body, or 2) wrap the type in `torch.jit.Attribute`.\n",
      "  warnings.warn(\n",
      "C:\\Users\\shann\\AppData\\Local\\Programs\\Python\\Python311\\Lib\\site-packages\\torch\\jit\\_check.py:178: UserWarning: The TorchScript type system doesn't support instance-level annotations on empty non-base types in `__init__`. Instead, either 1) use a type annotation in the class body, or 2) wrap the type in `torch.jit.Attribute`.\n",
      "  warnings.warn(\n",
      "C:\\Users\\shann\\AppData\\Local\\Programs\\Python\\Python311\\Lib\\site-packages\\torch\\jit\\_check.py:178: UserWarning: The TorchScript type system doesn't support instance-level annotations on empty non-base types in `__init__`. Instead, either 1) use a type annotation in the class body, or 2) wrap the type in `torch.jit.Attribute`.\n",
      "  warnings.warn(\n",
      "C:\\Users\\shann\\AppData\\Local\\Programs\\Python\\Python311\\Lib\\site-packages\\torch\\jit\\_check.py:178: UserWarning: The TorchScript type system doesn't support instance-level annotations on empty non-base types in `__init__`. Instead, either 1) use a type annotation in the class body, or 2) wrap the type in `torch.jit.Attribute`.\n",
      "  warnings.warn(\n",
      "C:\\Users\\shann\\AppData\\Local\\Programs\\Python\\Python311\\Lib\\site-packages\\torch\\utils\\data\\dataloader.py:666: UserWarning: 'pin_memory' argument is set as true but no accelerator is found, then device pinned memory won't be used.\n",
      "  warnings.warn(warn_msg)\n",
      "C:\\Users\\shann\\AppData\\Local\\Programs\\Python\\Python311\\Lib\\site-packages\\mace\\tools\\checkpoint.py:187: UserWarning: Environment variable TORCH_FORCE_NO_WEIGHTS_ONLY_LOAD detected, since the`weights_only` argument was not explicitly passed to `torch.load`, forcing weights_only=False.\n",
      "  torch.load(f=checkpoint_info.path, map_location=device),\n"
     ]
    }
   ],
   "source": [
    "!mace_run_train --config config_mace_3bpa.yml"
   ]
  },
  {
   "cell_type": "markdown",
   "id": "a84ba951",
   "metadata": {},
   "source": [
    "This is another way to run the training, with this I can see what is going on with the training\n",
    "- import warnings -> gives access to python warning system\n",
    "- warnings.filterwarnings -> sillences all warning messages -> this is because MACE/torch can generaete many technical warninigs that clutter the output but do not affect the functionality\n",
    "- from mace.cli.run_train -> the module containing the training code\n",
    "- main -> main function that runs training\n",
    "- as mace_run_train_main -> renames it for easer use\n",
    "- import sys -> system-specific parameters and functions\n",
    "- logging -> python's logging system for tracking program execution\n",
    "- def -> define the training function -> this is a reusable function to train MACE models\n",
    "- logging.getLogger -> celans up logging configuration -> prevents duplicate log messages and ensures a clean output\n",
    "- sys.argv -> simulates a command line"
   ]
  },
  {
   "cell_type": "code",
   "execution_count": 27,
   "id": "ba35bd53",
   "metadata": {},
   "outputs": [
    {
     "name": "stdout",
     "output_type": "stream",
     "text": [
      "2025-10-03 23:16:52.931 INFO: ===========VERIFYING SETTINGS===========\n",
      "2025-10-03 23:16:52.933 INFO: MACE version: 0.3.14\n",
      "2025-10-03 23:16:52.934 INFO: Using CPU\n",
      "2025-10-03 23:16:53.220 INFO: ===========LOADING INPUT DATA===========\n",
      "2025-10-03 23:16:53.224 INFO: Using heads: ['Default']\n",
      "2025-10-03 23:16:53.228 INFO: Using the key specifications to parse data:\n",
      "2025-10-03 23:16:53.230 INFO: Default: KeySpecification(info_keys={'energy': 'energy', 'stress': 'REF_stress', 'virials': 'REF_virials', 'dipole': 'dipole', 'head': 'head', 'elec_temp': 'elec_temp', 'total_charge': 'total_charge', 'polarizability': 'polarizability', 'total_spin': 'total_spin'}, arrays_keys={'forces': 'forces', 'charges': 'REF_charges'})\n",
      "2025-10-03 23:16:53.233 INFO: =============    Processing head Default     ===========\n",
      "2025-10-03 23:16:53.550 WARNING: Since ASE version 3.23.0b1, using energy_key 'energy' is no longer safe when communicating between MACE and ASE. We recommend using a different key, rewriting 'energy' to 'REF_energy'. You need to use --energy_key='REF_energy' to specify the chosen key name.\n",
      "2025-10-03 23:16:53.765 WARNING: Since ASE version 3.23.0b1, using forces_key 'forces' is no longer safe when communicating between MACE and ASE. We recommend using a different key, rewriting 'forces' to 'REF_forces'. You need to use --forces_key='REF_forces' to specify the chosen key name.\n",
      "2025-10-03 23:16:53.882 INFO: Training set 1/1 [energy: 500, stress: 0, virials: 0, dipole components: 0, head: 500, elec_temp: 0, total_charge: 0, polarizability: 0, total_spin: 0, forces: 500, charges: 0]\n",
      "2025-10-03 23:16:53.886 INFO: Total Training set [energy: 500, stress: 0, virials: 0, dipole components: 0, head: 500, elec_temp: 0, total_charge: 0, polarizability: 0, total_spin: 0, forces: 500, charges: 0]\n",
      "2025-10-03 23:16:53.888 INFO: No validation set provided, splitting training data instead.\n",
      "2025-10-03 23:16:53.896 INFO: Using random 5% of training set for validation with indices saved in: ./valid_indices_123.txt\n",
      "2025-10-03 23:16:53.905 INFO: Random Split Training set [energy: 475, stress: 0, virials: 0, dipole components: 0, head: 475, elec_temp: 0, total_charge: 0, polarizability: 0, total_spin: 0, forces: 475, charges: 0]\n",
      "2025-10-03 23:16:53.907 INFO: Random Split Validation set [energy: 25, stress: 0, virials: 0, dipole components: 0, head: 25, elec_temp: 0, total_charge: 0, polarizability: 0, total_spin: 0, forces: 25, charges: 0]\n",
      "2025-10-03 23:16:55.167 WARNING: Since ASE version 3.23.0b1, using energy_key 'energy' is no longer safe when communicating between MACE and ASE. We recommend using a different key, rewriting 'energy' to 'REF_energy'. You need to use --energy_key='REF_energy' to specify the chosen key name.\n",
      "2025-10-03 23:16:55.580 WARNING: Since ASE version 3.23.0b1, using forces_key 'forces' is no longer safe when communicating between MACE and ASE. We recommend using a different key, rewriting 'forces' to 'REF_forces'. You need to use --forces_key='REF_forces' to specify the chosen key name.\n",
      "2025-10-03 23:16:55.883 INFO: Test set 1/1 [energy: 1669, stress: 0, virials: 0, dipole components: 0, head: 1669, elec_temp: 0, total_charge: 0, polarizability: 0, total_spin: 0, forces: 1669, charges: 0]\n",
      "2025-10-03 23:16:55.895 INFO: Total Test set [energy: 1669, stress: 0, virials: 0, dipole components: 0, head: 1669, elec_temp: 0, total_charge: 0, polarizability: 0, total_spin: 0, forces: 1669, charges: 0]\n",
      "2025-10-03 23:16:55.896 INFO: Total number of configurations: train=475, valid=25, tests=[Default_Default: 1669],\n",
      "2025-10-03 23:16:55.900 INFO: Atomic Numbers used: [1, 6, 7, 8]\n",
      "2025-10-03 23:16:55.901 INFO: Isolated Atomic Energies (E0s) not in training file, using command line argument\n",
      "2025-10-03 23:16:55.902 INFO: Atomic Energies used (z: eV) for head Default: {1: -13.663181292231226, 6: -1029.2809654211628, 7: -1484.1187695035828, 8: -2042.0330099956639}\n",
      "2025-10-03 23:16:55.903 INFO: Processing datasets for head 'Default'\n",
      "2025-10-03 23:16:56.458 INFO: Combining 1 list datasets for head 'Default'\n",
      "2025-10-03 23:16:56.495 INFO: Head 'Default' training dataset size: 475\n",
      "2025-10-03 23:16:56.498 INFO: Computing average number of neighbors\n",
      "2025-10-03 23:16:56.604 INFO: Average number of neighbors: 11.992914199829102\n",
      "2025-10-03 23:16:56.605 INFO: During training the following quantities will be reported: energy, forces\n",
      "2025-10-03 23:16:56.606 INFO: ===========MODEL DETAILS===========\n",
      "2025-10-03 23:16:56.714 INFO: Building model\n",
      "2025-10-03 23:16:56.716 INFO: Message passing with 32 channels and max_L=0 (32x0e)\n",
      "2025-10-03 23:16:56.717 INFO: 2 layers, each with correlation order: 3 (body order: 4) and spherical harmonics up to: l=3\n",
      "2025-10-03 23:16:56.718 INFO: 8 radial and 5 basis functions\n",
      "2025-10-03 23:16:56.720 INFO: Radial cutoff: 4.0 A (total receptive field for each atom: 8.0 A)\n",
      "2025-10-03 23:16:56.722 INFO: Distance transform for radial basis functions: None\n",
      "2025-10-03 23:16:56.724 INFO: Hidden irreps: 32x0e\n",
      "2025-10-03 23:16:58.588 INFO: Total number of parameters: 62128\n",
      "2025-10-03 23:16:58.591 INFO: \n",
      "2025-10-03 23:16:58.594 INFO: ===========OPTIMIZER INFORMATION===========\n",
      "2025-10-03 23:16:58.597 INFO: Using ADAM as parameter optimizer\n",
      "2025-10-03 23:16:58.598 INFO: Batch size: 20\n",
      "2025-10-03 23:16:58.599 INFO: Using Exponential Moving Average with decay: 0.99\n",
      "2025-10-03 23:16:58.601 INFO: Number of gradient updates: 118\n",
      "2025-10-03 23:16:58.602 INFO: Learning rate: 0.01, weight decay: 5e-07\n",
      "2025-10-03 23:16:58.603 INFO: WeightedEnergyForcesLoss(energy_weight=1.000, forces_weight=100.000)\n",
      "2025-10-03 23:16:58.607 INFO: Stage Two (after 3 epochs) with loss function: WeightedEnergyForcesLoss(energy_weight=1000.000, forces_weight=100.000), with energy weight : 1000.0, forces weight : 100.0 and learning rate : 0.001\n",
      "2025-10-03 23:16:58.752 INFO: Using gradient clipping with tolerance=10.000\n",
      "2025-10-03 23:16:58.753 INFO: \n",
      "2025-10-03 23:16:58.754 INFO: ===========TRAINING===========\n",
      "2025-10-03 23:16:58.757 INFO: Started training, reporting errors on validation set\n",
      "2025-10-03 23:16:58.760 INFO: Loss metrics on validation set\n",
      "2025-10-03 23:16:59.579 INFO: Initial: head: Default, loss=11.11455059, RMSE_E_per_atom=   10.55 meV, RMSE_F=  975.98 meV / A\n",
      "2025-10-03 23:17:19.456 INFO: Epoch 0: head: Default, loss=3.70784760, RMSE_E_per_atom=  317.56 meV, RMSE_F=  557.62 meV / A\n",
      "2025-10-03 23:17:41.195 INFO: Epoch 1: head: Default, loss=2.10039020, RMSE_E_per_atom=  368.79 meV, RMSE_F=  417.03 meV / A\n",
      "2025-10-03 23:18:02.482 INFO: Epoch 2: head: Default, loss=1.22559416, RMSE_E_per_atom=  361.56 meV, RMSE_F=  318.05 meV / A\n",
      "2025-10-03 23:18:02.519 INFO: Changing loss based on Stage Two Weights\n",
      "2025-10-03 23:18:24.167 INFO: Epoch 3: head: Default, loss=1.70672941, RMSE_E_per_atom=   36.29 meV, RMSE_F=  360.39 meV / A\n",
      "2025-10-03 23:18:50.958 INFO: Epoch 4: head: Default, loss=1.10951579, RMSE_E_per_atom=    8.31 meV, RMSE_F=  303.78 meV / A\n",
      "2025-10-03 23:18:51.025 INFO: Training complete\n",
      "2025-10-03 23:18:51.031 INFO: \n",
      "2025-10-03 23:18:51.034 INFO: ===========RESULTS===========\n",
      "2025-10-03 23:18:55.691 INFO: Loading checkpoint: .\\checkpoints\\MACE_model_run-123_epoch-74.pt\n",
      "2025-10-03 23:18:55.732 INFO: Loaded Stage one model from epoch 74 for evaluation\n",
      "2025-10-03 23:18:55.735 INFO: Saving model to checkpoints\\MACE_model_run-123.model\n",
      "2025-10-03 23:18:56.025 INFO: Compiling model, saving metadata to MACE_model_compiled.model\n",
      "2025-10-03 23:18:57.554 INFO: Computing metrics for training, validation, and test sets\n",
      "2025-10-03 23:18:57.558 INFO: Skipping evaluation for heads: ['pt_head']\n",
      "2025-10-03 23:18:57.560 INFO: Evaluating train_Default ...\n",
      "2025-10-03 23:19:03.776 INFO: Evaluating valid_Default ...\n",
      "2025-10-03 23:19:04.424 INFO: Error-table on TRAIN and VALID:\n",
      "+---------------+---------------------+------------------+-------------------+\n",
      "|  config_type  | RMSE E / meV / atom | RMSE F / meV / A | relative F RMSE % |\n",
      "+---------------+---------------------+------------------+-------------------+\n",
      "| train_Default |            0.9      |         46.0     |          4.87     |\n",
      "| valid_Default |            0.7      |         47.8     |          4.89     |\n",
      "+---------------+---------------------+------------------+-------------------+\n",
      "2025-10-03 23:19:04.426 INFO: Evaluating Default_Default ...\n",
      "2025-10-03 23:19:39.596 INFO: Error-table on TEST:\n",
      "+-----------------+---------------------+------------------+-------------------+\n",
      "|   config_type   | RMSE E / meV / atom | RMSE F / meV / A | relative F RMSE % |\n",
      "+-----------------+---------------------+------------------+-------------------+\n",
      "| Default_Default |            0.9      |         49.4     |          5.14     |\n",
      "+-----------------+---------------------+------------------+-------------------+\n",
      "2025-10-03 23:19:39.919 INFO: Loading checkpoint: .\\checkpoints\\MACE_model_run-123_epoch-99_swa.pt\n",
      "2025-10-03 23:19:39.949 INFO: Loaded Stage two model from epoch 99 for evaluation\n",
      "2025-10-03 23:19:39.951 INFO: Saving model to checkpoints\\MACE_model_run-123_stagetwo.model\n",
      "2025-10-03 23:19:40.214 INFO: Compiling model, saving metadata MACE_model_stagetwo_compiled.model\n",
      "2025-10-03 23:19:41.384 INFO: Computing metrics for training, validation, and test sets\n",
      "2025-10-03 23:19:41.388 INFO: Skipping evaluation for heads: ['pt_head']\n",
      "2025-10-03 23:19:41.390 INFO: Evaluating train_Default ...\n",
      "2025-10-03 23:19:47.477 INFO: Evaluating valid_Default ...\n",
      "2025-10-03 23:19:48.160 INFO: Error-table on TRAIN and VALID:\n",
      "+---------------+---------------------+------------------+-------------------+\n",
      "|  config_type  | RMSE E / meV / atom | RMSE F / meV / A | relative F RMSE % |\n",
      "+---------------+---------------------+------------------+-------------------+\n",
      "| train_Default |            0.8      |         44.3     |          4.68     |\n",
      "| valid_Default |            0.6      |         46.0     |          4.71     |\n",
      "+---------------+---------------------+------------------+-------------------+\n",
      "2025-10-03 23:19:48.162 INFO: Evaluating Default_Default ...\n",
      "2025-10-03 23:20:21.544 INFO: Error-table on TEST:\n",
      "+-----------------+---------------------+------------------+-------------------+\n",
      "|   config_type   | RMSE E / meV / atom | RMSE F / meV / A | relative F RMSE % |\n",
      "+-----------------+---------------------+------------------+-------------------+\n",
      "| Default_Default |            0.8      |         47.7     |          4.96     |\n",
      "+-----------------+---------------------+------------------+-------------------+\n",
      "2025-10-03 23:20:21.886 INFO: Done\n"
     ]
    }
   ],
   "source": [
    "import warnings\n",
    "warnings.filterwarnings(\"ignore\")\n",
    "from mace.cli.run_train import main as mace_run_train_main\n",
    "import sys\n",
    "import logging\n",
    "\n",
    "def train_mace(config_file_path):\n",
    "    logging.getLogger().handlers.clear()\n",
    "    sys.argv = [\"program\", \"--config\", config_file_path]  # Simulates command line\n",
    "    mace_run_train_main()  # Calls the main function directly\n",
    "\n",
    "train_mace(\"config_mace_3bpa.yml\")"
   ]
  },
  {
   "cell_type": "markdown",
   "id": "4718d8de",
   "metadata": {},
   "source": [
    "With this the model can be used to run ASE MD. "
   ]
  },
  {
   "cell_type": "code",
   "execution_count": 28,
   "id": "5a10fbc6",
   "metadata": {},
   "outputs": [
    {
     "name": "stdout",
     "output_type": "stream",
     "text": [
      "2025-10-03 23:33:42.931 INFO: Using CPU\n",
      "Using head Default out of ['Default']\n",
      "No dtype selected, switching to float32 to match model dtype.\n",
      "MD finished!\n"
     ]
    }
   ],
   "source": [
    "from ase import units #physical constants\n",
    "from ase.md.langevin import Langevin #langevin dinamics integrator\n",
    "from ase.io import read, write # read/write chemical structure files\n",
    "import numpy as np \n",
    "import time #timing performance\n",
    "\n",
    "from mace.calculators import MACECalculator # import the machine learning potential -> gives acces to mace as a \"calculator\" that can predict energies and forces\n",
    "\n",
    "calculator = MACECalculator(model_paths='checkpoints/MACE_model_run-123.model', device='cpu') #loads the trained MACe model\n",
    "init_conf = read('BOTNet-datasets/dataset_3BPA/test_300K.xyz', '0') # loads the starting structure for MD, loads a singe molecular configuration to start the simulation\n",
    "init_conf.set_calculator(calculator) # connect the ML calculator to the atoms (en teoria se puede usar init_conf.cal = calculator pero no lo he probado)\n",
    "\n",
    "dyn = Langevin(init_conf, 0.5*units.fs, temperature_K=310, friction=5e-3) #uses langevin dynamics (constant temperature)\n",
    "#defines a function to save simulation snapshots\n",
    "def write_frame():\n",
    "        dyn.atoms.write('md_3bpa.xyz', append=True)\n",
    "dyn.attach(write_frame, interval=50) #indicates the simulator when to save frames\n",
    "dyn.run(100) #execute the molecular dynamics, each step calculates forces using mace, updates atom positions and velocities, applies thermostat and saves trajectory frame every 50 steps\n",
    "print(\"MD finished!\")"
   ]
  },
  {
   "cell_type": "code",
   "execution_count": 29,
   "id": "6094935b",
   "metadata": {},
   "outputs": [
    {
     "name": "stdout",
     "output_type": "stream",
     "text": [
      "✓ Trajectory file created: md_3bpa.xyz\n",
      "✓ Saved 6 frames to md_3bpa.xyz\n"
     ]
    }
   ],
   "source": [
    "import os\n",
    "if os.path.exists('md_3bpa.xyz'):\n",
    "    print(\"✓ Trajectory file created: md_3bpa.xyz\")\n",
    "    \n",
    "    # Count how many frames were saved\n",
    "    from ase.io import read\n",
    "    frames = read('md_3bpa.xyz', index=':')\n",
    "    print(f\"✓ Saved {len(frames)} frames to md_3bpa.xyz\")\n",
    "else:\n",
    "    print(\"✗ Trajectory file not created\")"
   ]
  },
  {
   "cell_type": "code",
   "execution_count": 24,
   "id": "0bc2934e",
   "metadata": {},
   "outputs": [
    {
     "name": "stdout",
     "output_type": "stream",
     "text": [
      "Trajectory contains 3 frames\n",
      "Each frame has 27 atoms\n",
      "\n",
      "Energies from MD simulation:\n",
      "Frame 0: Energy = -17664.2285 eV\n",
      "Frame 1: Energy = -17664.8047 eV\n",
      "Frame 2: Energy = -17664.9277 eV\n"
     ]
    }
   ],
   "source": [
    "from ase.io import read\n",
    "\n",
    "trajectory = read('md_3bpa.xyz', index=':')\n",
    "print(f\"Trajectory contains {len(trajectory)} frames\")\n",
    "print(f\"Each frame has {len(trajectory[0])} atoms\")\n",
    "\n",
    "# Print energies from the trajectory\n",
    "print(\"\\nEnergies from MD simulation:\")\n",
    "for i, atoms in enumerate(trajectory):\n",
    "    if hasattr(atoms, 'get_potential_energy'):\n",
    "        energy = atoms.get_potential_energy()\n",
    "        print(f\"Frame {i}: Energy = {energy:.4f} eV\")"
   ]
  }
 ],
 "metadata": {
  "kernelspec": {
   "display_name": "Python 3",
   "language": "python",
   "name": "python3"
  },
  "language_info": {
   "codemirror_mode": {
    "name": "ipython",
    "version": 3
   },
   "file_extension": ".py",
   "mimetype": "text/x-python",
   "name": "python",
   "nbconvert_exporter": "python",
   "pygments_lexer": "ipython3",
   "version": "3.11.4"
  }
 },
 "nbformat": 4,
 "nbformat_minor": 5
}
